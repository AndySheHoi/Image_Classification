{
  "nbformat": 4,
  "nbformat_minor": 0,
  "metadata": {
    "colab": {
      "name": "simple_digit_classifier.ipynb",
      "provenance": [],
      "collapsed_sections": []
    },
    "kernelspec": {
      "name": "python3",
      "display_name": "Python 3"
    }
  },
  "cells": [
    {
      "cell_type": "markdown",
      "metadata": {
        "id": "KkZjOHT6lYtl",
        "colab_type": "text"
      },
      "source": [
        "# ***Reference:*** https://www.tensorflow.org/tutorials/quickstart/beginner"
      ]
    },
    {
      "cell_type": "code",
      "metadata": {
        "id": "lvufzRAityh5",
        "colab_type": "code",
        "colab": {}
      },
      "source": [
        "import tensorflow as tf\n",
        "import numpy as np\n",
        "\n",
        "mnist = tf.keras.datasets.mnist\n",
        "(x_train, y_train), (x_test, y_test) = mnist.load_data()"
      ],
      "execution_count": 0,
      "outputs": []
    },
    {
      "cell_type": "markdown",
      "metadata": {
        "id": "Qsme8m5XOyJm",
        "colab_type": "text"
      },
      "source": [
        "# **Implement a MNISTLoader class**\n",
        "1.   read data from MNIST dataset\n",
        "2.   randomly retrieve batch_size elements from the data set and return\n",
        "\n",
        "The image in MNIST defaults to uint8 (a number from 0-255). <br>\n",
        "The following code normalizes it to a floating point number between 0-1 and adds one dimension at the end as a color channel"
      ]
    },
    {
      "cell_type": "code",
      "metadata": {
        "id": "2GgVJMDbEtAr",
        "colab_type": "code",
        "colab": {}
      },
      "source": [
        "class MNISTLoader():\n",
        "    def __init__(self, x_train, x_test, y_train, y_test):\n",
        "        self.train_data = x_train\n",
        "        self.train_label = y_train\n",
        "        self.test_data = x_test\n",
        "        self.test_label = y_test\n",
        "        self.train_data = np.expand_dims(self.train_data.astype(np.float32) / 255.0, axis=-1)   # [60000, 28, 28, 1]\n",
        "        self.test_data = np.expand_dims(self.test_data.astype(np.float32) / 255.0, axis=-1)    # [10000, 28, 28, 1]\n",
        "        self.train_label = self.train_label.astype(np.int32)     # [60000]\n",
        "        self.test_label = self.test_label.astype(np.int32)      # [10000]\n",
        "        self.num_train_data, self.num_test_data = self.train_data.shape[0], self.test_data.shape[0]\n",
        "\n",
        "    def get_batch(self, batch_size):\n",
        "        index = np.random.randint(0, np.shape(self.train_data)[0], batch_size)\n",
        "        return self.train_data[index, :], self.train_label[index]"
      ],
      "execution_count": 0,
      "outputs": []
    },
    {
      "cell_type": "markdown",
      "metadata": {
        "id": "AU6nPaain6V8",
        "colab_type": "text"
      },
      "source": [
        "# **Build a model and train it**"
      ]
    },
    {
      "cell_type": "code",
      "metadata": {
        "id": "EaugBsN1uWLo",
        "colab_type": "code",
        "colab": {
          "base_uri": "https://localhost:8080/",
          "height": 202
        },
        "outputId": "c80dc79b-7e14-4ae7-e8ad-e93b0e1b7d90"
      },
      "source": [
        "model = tf.keras.models.Sequential([\n",
        "    tf.keras.layers.Flatten(),\n",
        "    tf.keras.layers.Dense(128, activation=tf.nn.relu),\n",
        "    tf.keras.layers.Dense(256, activation=tf.nn.relu),\n",
        "    tf.keras.layers.Dropout(0.5),\n",
        "    tf.keras.layers.Dense(10),\n",
        "    tf.keras.layers.Softmax()\n",
        "])\n",
        "\n",
        "num_epochs = 5\n",
        "batch_size = 100\n",
        "learning_rate = 0.001\n",
        "data_loader = MNISTLoader(x_train, x_test, y_train, y_test)\n",
        "\n",
        "model.compile(\n",
        "    optimizer=tf.keras.optimizers.Adam(learning_rate=learning_rate),\n",
        "    loss=tf.keras.losses.sparse_categorical_crossentropy,\n",
        "    metrics=[tf.keras.metrics.sparse_categorical_accuracy]\n",
        ")\n",
        "model.fit(data_loader.train_data, data_loader.train_label, epochs=num_epochs, batch_size=batch_size)"
      ],
      "execution_count": 13,
      "outputs": [
        {
          "output_type": "stream",
          "text": [
            "Epoch 1/5\n",
            "600/600 [==============================] - 2s 4ms/step - loss: 0.3498 - sparse_categorical_accuracy: 0.8955\n",
            "Epoch 2/5\n",
            "600/600 [==============================] - 2s 4ms/step - loss: 0.1417 - sparse_categorical_accuracy: 0.9584\n",
            "Epoch 3/5\n",
            "600/600 [==============================] - 2s 4ms/step - loss: 0.1008 - sparse_categorical_accuracy: 0.9694\n",
            "Epoch 4/5\n",
            "600/600 [==============================] - 2s 4ms/step - loss: 0.0787 - sparse_categorical_accuracy: 0.9762\n",
            "Epoch 5/5\n",
            "600/600 [==============================] - 2s 4ms/step - loss: 0.0637 - sparse_categorical_accuracy: 0.9808\n"
          ],
          "name": "stdout"
        },
        {
          "output_type": "execute_result",
          "data": {
            "text/plain": [
              "<tensorflow.python.keras.callbacks.History at 0x7f86d5b69c50>"
            ]
          },
          "metadata": {
            "tags": []
          },
          "execution_count": 13
        }
      ]
    },
    {
      "cell_type": "markdown",
      "metadata": {
        "id": "rMXVzlANLX9q",
        "colab_type": "text"
      },
      "source": [
        "# **Svae the model to the Google drive**<br>\n",
        "**Mount the Google account**"
      ]
    },
    {
      "cell_type": "code",
      "metadata": {
        "id": "90kryO23v8K9",
        "colab_type": "code",
        "colab": {
          "base_uri": "https://localhost:8080/",
          "height": 34
        },
        "outputId": "f5fff0c2-04cc-462d-84a3-dd5645a82e7c"
      },
      "source": [
        "from google.colab import drive\n",
        "drive.mount('/content/drive/')"
      ],
      "execution_count": 14,
      "outputs": [
        {
          "output_type": "stream",
          "text": [
            "Mounted at /content/drive/\n"
          ],
          "name": "stdout"
        }
      ]
    },
    {
      "cell_type": "markdown",
      "metadata": {
        "id": "wfzj6EEmMC82",
        "colab_type": "text"
      },
      "source": [
        "**Change the path to your working directory**"
      ]
    },
    {
      "cell_type": "code",
      "metadata": {
        "id": "6rLmvcrywYjG",
        "colab_type": "code",
        "colab": {
          "base_uri": "https://localhost:8080/",
          "height": 118
        },
        "outputId": "f16da1cf-7cd0-4579-e3c0-d065d0e1b53b"
      },
      "source": [
        "path = \"/content/drive/My Drive/Machine Learning /Image Classification\"\n",
        "import os\n",
        "os.chdir(path)\n",
        "os.listdir(path)"
      ],
      "execution_count": 15,
      "outputs": [
        {
          "output_type": "execute_result",
          "data": {
            "text/plain": [
              "['models',\n",
              " 'Dataset',\n",
              " 'demo.ipynb',\n",
              " 'digits_classification_advanced.ipynb',\n",
              " 'simple_digit_classifier.ipynb',\n",
              " 'logs']"
            ]
          },
          "metadata": {
            "tags": []
          },
          "execution_count": 15
        }
      ]
    },
    {
      "cell_type": "markdown",
      "metadata": {
        "id": "CoJpavylzk4J",
        "colab_type": "text"
      },
      "source": [
        "**Save the model**"
      ]
    },
    {
      "cell_type": "code",
      "metadata": {
        "id": "j4sk3_sDwdNb",
        "colab_type": "code",
        "colab": {
          "base_uri": "https://localhost:8080/",
          "height": 34
        },
        "outputId": "1476829a-cab2-48ab-bde6-88ac6dd088c8"
      },
      "source": [
        "save_path = \"/content/drive/My Drive/Machine Learning /Image Classification/models/simple_digit_classifier\"\n",
        "tf.saved_model.save(model, save_path)"
      ],
      "execution_count": 16,
      "outputs": [
        {
          "output_type": "stream",
          "text": [
            "INFO:tensorflow:Assets written to: /content/drive/My Drive/Machine Learning /Image Classification/models/simple_digit_classifier/assets\n"
          ],
          "name": "stdout"
        }
      ]
    },
    {
      "cell_type": "markdown",
      "metadata": {
        "id": "TvbHjSS6KL26",
        "colab_type": "text"
      },
      "source": [
        "**Unmount the Google account**"
      ]
    },
    {
      "cell_type": "code",
      "metadata": {
        "id": "p-s9YRUWwoH1",
        "colab_type": "code",
        "colab": {}
      },
      "source": [
        "drive.flush_and_unmount()"
      ],
      "execution_count": 0,
      "outputs": []
    }
  ]
}